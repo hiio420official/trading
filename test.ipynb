{
 "cells": [
  {
   "cell_type": "code",
   "outputs": [],
   "source": [
    "from collections import OrderedDict\n",
    "\n",
    "from PIL.ImageDraw import ImageDraw\n",
    "from sqlalchemy import text\n",
    "\n",
    "from app.database import StockChartEntity\n",
    "from app.database.Core import SessionLocal, engine\n",
    "import numpy as np\n",
    "import pandas as pd\n",
    "from PIL import Image,ImageDraw\n",
    "from app.utils.Image import Scaler"
   ],
   "metadata": {
    "collapsed": false,
    "ExecuteTime": {
     "end_time": "2024-04-19T08:16:23.287341100Z",
     "start_time": "2024-04-19T08:16:22.926344Z"
    }
   },
   "id": "29da345695763afb",
   "execution_count": 200
  },
  {
   "cell_type": "code",
   "execution_count": 239,
   "id": "initial_id",
   "metadata": {
    "collapsed": true,
    "ExecuteTime": {
     "end_time": "2024-04-19T08:53:03.411532300Z",
     "start_time": "2024-04-19T08:52:57.004637900Z"
    }
   },
   "outputs": [
    {
     "name": "stdout",
     "output_type": "stream",
     "text": [
      "         CODE      DATE  TIME     OPEN     HIGH      LOW    CLOSE  \\\n",
      "0     A000020  20220411   901  13200.0  13200.0  13100.0  13150.0   \n",
      "1     A000020  20220411   902  13100.0  13100.0  13100.0  13100.0   \n",
      "2     A000020  20220411   903  13100.0  13200.0  13100.0  13100.0   \n",
      "3     A000020  20220411   904  13200.0  13200.0  13150.0  13150.0   \n",
      "4     A000020  20220411   905  13150.0  13150.0  13100.0  13100.0   \n",
      "...       ...       ...   ...      ...      ...      ...      ...   \n",
      "1295  A000020  20220415  1006  13100.0  13100.0  13100.0  13100.0   \n",
      "1296  A000020  20220415  1007  13100.0  13100.0  13100.0  13100.0   \n",
      "1297  A000020  20220415  1008  13100.0  13100.0  13100.0  13100.0   \n",
      "1298  A000020  20220415  1010  13100.0  13150.0  13100.0  13150.0   \n",
      "1299  A000020  20220415  1012  13150.0  13150.0  13150.0  13150.0   \n",
      "\n",
      "      COMPARED_TO_THE_PREVIOUS_DAY  volume  TRADING_VALUE  ...  \\\n",
      "0                              0.0  5055.0     66490000.0  ...   \n",
      "1                              0.0     1.0        10000.0  ...   \n",
      "2                              0.0   144.0      1890000.0  ...   \n",
      "3                              0.0     3.0        40000.0  ...   \n",
      "4                              0.0    51.0       660000.0  ...   \n",
      "...                            ...     ...            ...  ...   \n",
      "1295                           0.0   193.0      2520000.0  ...   \n",
      "1296                           0.0   886.0     11610000.0  ...   \n",
      "1297                           0.0   200.0      2620000.0  ...   \n",
      "1298                           0.0   165.0      2170000.0  ...   \n",
      "1299                           0.0     7.0        90000.0  ...   \n",
      "\n",
      "      FLUCTUATING_RATE  DEPOSIT  STOCK_TURNOVER  TRANSACTION_COMPLETION_RATE  \\\n",
      "0                  0.0      0.0             0.0                          0.0   \n",
      "1                  0.0      0.0             0.0                          0.0   \n",
      "2                  0.0      0.0             0.0                          0.0   \n",
      "3                  0.0      0.0             0.0                          0.0   \n",
      "4                  0.0      0.0             0.0                          0.0   \n",
      "...                ...      ...             ...                          ...   \n",
      "1295               0.0      0.0             0.0                          0.0   \n",
      "1296               0.0      0.0             0.0                          0.0   \n",
      "1297               0.0      0.0             0.0                          0.0   \n",
      "1298               0.0      0.0             0.0                          0.0   \n",
      "1299               0.0      0.0             0.0                          0.0   \n",
      "\n",
      "      CONTRAST_MARK  EXECUTION_PRICE_COMPARISON_TRANSACTION_SALE_QUANTITY  \\\n",
      "0              48.0                                             2875.0      \n",
      "1              48.0                                             2876.0      \n",
      "2              48.0                                             3019.0      \n",
      "3              48.0                                             3021.0      \n",
      "4              48.0                                             3072.0      \n",
      "...             ...                                                ...      \n",
      "1295           48.0                                            16066.0      \n",
      "1296           48.0                                            16952.0      \n",
      "1297           48.0                                            17152.0      \n",
      "1298           48.0                                            17231.0      \n",
      "1299           48.0                                            17231.0      \n",
      "\n",
      "      EXECUTION_PRICE_COMPARISON_TRANSACTION_QUANTITY  PREV_CLOSE  \\\n",
      "0                                              1580.0         0.0   \n",
      "1                                              1580.0     13150.0   \n",
      "2                                              1581.0     13100.0   \n",
      "3                                              1582.0     13100.0   \n",
      "4                                              1582.0     13150.0   \n",
      "...                                               ...         ...   \n",
      "1295                                           8309.0     13100.0   \n",
      "1296                                           8309.0     13100.0   \n",
      "1297                                           8309.0     13100.0   \n",
      "1298                                           8395.0     13100.0   \n",
      "1299                                           8402.0     13150.0   \n",
      "\n",
      "           MIN_MA3  DAILY_MA3  \n",
      "0     13150.000000    13050.0  \n",
      "1     13125.000000    13050.0  \n",
      "2     13116.666667    13050.0  \n",
      "3     13125.000000    13050.0  \n",
      "4     13120.000000    13050.0  \n",
      "...            ...        ...  \n",
      "1295  13151.315789    13050.0  \n",
      "1296  13150.438596    13050.0  \n",
      "1297  13149.561404    13050.0  \n",
      "1298  13149.122807    13050.0  \n",
      "1299  13148.684211    13050.0  \n",
      "\n",
      "[1300 rows x 33 columns]\n"
     ]
    }
   ],
   "source": [
    " with engine.connect() as conn, conn.begin():\n",
    "        stmt = text(\"\"\"SELECT \n",
    "                A.*\n",
    "                ,NVL(LAG(A.CLOSE) OVER(ORDER BY A.DATE,A.TIME),0) AS PREV_CLOSE\n",
    "                ,AVG(A.CLOSE) OVER (ORDER BY A.DATE,A.TIME ROWS BETWEEN 113 PRECEDING AND CURRENT ROW) AS MIN_MA3\n",
    "                ,B.DAILY_MA3\n",
    "                FROM \n",
    "                TB_STOCK_CHART A\n",
    "                JOIN (\n",
    "                        SELECT\n",
    "                            AVG(A.CLOSE) OVER (ORDER BY A.DATE,A.TIME ROWS BETWEEN 113 PRECEDING AND CURRENT ROW) AS DAILY_MA3\n",
    "                            ,A.*\n",
    "                        FROM (\n",
    "                            SELECT\n",
    "                                    A.DATE,\n",
    "                                    A.CODE,\n",
    "                                    A.TIME,\n",
    "                                    MAX(HIGH) AS HIGH,\n",
    "                                    MIN(LOW) AS LOW,\n",
    "                                    SUM(VOLUME) AS VOLUME,\n",
    "                                    (SELECT Z.CLOSE FROM TB_STOCK_CHART Z WHERE Z.DATE = A.DATE AND A.CODE = Z.CODE AND Z.TIME = MAX(A.TIME)) AS CLOSE,\n",
    "                                    (SELECT Z.OPEN FROM TB_STOCK_CHART Z WHERE Z.DATE = A.DATE AND A.CODE = Z.CODE AND Z.TIME = MIN(A.TIME)) AS OPEN\n",
    "                                FROM TB_STOCK_CHART A\n",
    "                                WHERE\n",
    "                                    A.CODE =:code\n",
    "                                GROUP BY A.DATE,A.CODE\n",
    "                             ) A\n",
    "                ) B\n",
    "                ON\n",
    "                A.CODE = B.CODE AND A.DATE = B.DATE\n",
    "                WHERE A.CODE = :code \n",
    "                ORDER BY DATE ASC , TIME ASC \n",
    "                LIMIT 0,1300\n",
    "                \"\"\")\n",
    "        params = {\"code\": \"A000020\"}\n",
    "        df = pd.read_sql_query(stmt, con=conn, params=params)\n",
    "        print(df)\n",
    "        df[\"DATETIME\"] = df[\"DATE\"].astype(\"str\") + df[\"TIME\"].apply(lambda x: str(x).zfill(4))\n",
    "\n",
    "        df_c = df.drop([\"CODE\", \"DATE\", \"TIME\"], axis=1)\n",
    "        df_c[\"MA5\"] = df_c['CLOSE'].rolling(window=5).mean()\n",
    "        df_c.fillna(0, inplace=True)\n",
    "        scaler = Scaler([800, 0], [df_c[[\"CLOSE\", \"OPEN\", \"LOW\", \"HIGH\",\"DAILY_MA3\",\"MIN_MA3\"]].min().min(),\n",
    "                                   df_c[[\"CLOSE\", \"OPEN\", \"LOW\", \"HIGH\",\"DAILY_MA3\",\"MIN_MA3\"]].max().max()])\n",
    "        df_sc = df_c[[\"CLOSE\", \"OPEN\", \"LOW\", \"HIGH\",\"PREV_CLOSE\",\"DAILY_MA3\",\"MIN_MA3\"]].apply(scaler,axis=1).astype(\"int\")\n",
    "        df_sc[\"DATETIME\"] = df[\"DATETIME\"]\n",
    "        df_sc[\"width\"] = 3900//df_sc.shape[0]\n",
    "        df_sc[\"x\"] = df_sc.index * df_sc[\"width\"]\n",
    "  \n",
    "        # print(df_sc)"
   ]
  },
  {
   "cell_type": "code",
   "outputs": [],
   "source": [],
   "metadata": {
    "collapsed": false,
    "ExecuteTime": {
     "end_time": "2024-04-19T08:53:03.438531400Z",
     "start_time": "2024-04-19T08:53:03.415529600Z"
    }
   },
   "id": "e35028dc02a22afd",
   "execution_count": 239
  },
  {
   "cell_type": "code",
   "outputs": [],
   "source": [
    "x1 = 2\n",
    "y1 = 4\n",
    "x2 = 4\n",
    "y2 = 10\n",
    "\n",
    "def getY(xl,yl,x):\n",
    "        return (yl[1]-yl[0])/(xl[1] - xl[0]) * (x - xl[0]) + yl[0]\n",
    "\n",
    "\n",
    "\n",
    "\n"
   ],
   "metadata": {
    "collapsed": false,
    "ExecuteTime": {
     "end_time": "2024-04-19T08:53:03.460530Z",
     "start_time": "2024-04-19T08:53:03.428530600Z"
    }
   },
   "id": "50c896d558931b00",
   "execution_count": 240
  },
  {
   "cell_type": "code",
   "outputs": [],
   "source": [],
   "metadata": {
    "collapsed": false,
    "ExecuteTime": {
     "end_time": "2024-04-19T08:53:03.484529800Z",
     "start_time": "2024-04-19T08:53:03.458530800Z"
    }
   },
   "id": "1e15e9c5c1af5ac9",
   "execution_count": 240
  },
  {
   "cell_type": "code",
   "outputs": [],
   "source": [
    "img = Image.new(\"RGB\", (3900, 800), (0, 0, 0))\n",
    "draw = ImageDraw.Draw(img)\n",
    "m2 =0\n",
    "cl = 0\n",
    "\n",
    "ma3 = []\n",
    "minma3 = []\n",
    "for i in range(df_sc.shape[0]):\n",
    "        y = df_sc.loc[i,\"CLOSE\"]\n",
    "        h = df_sc.loc[i,\"OPEN\"]\n",
    "        w = df_sc.loc[i,\"width\"]\n",
    "        \n",
    "        \n",
    "        x = i*w\n",
    "        x2 = x+w\n",
    "        x3 = x+(x2-x)//2 -2\n",
    "        x4 = x3+4\n",
    "        \n",
    "        pc = df_sc.loc[i,\"PREV_CLOSE\"]\n",
    "        lp = df_sc.loc[i,\"LOW\"]\n",
    "        hp = df_sc.loc[i,\"HIGH\"]\n",
    "        z1 = df_sc.loc[i,\"DAILY_MA3\"]\n",
    "        mz1 = df_sc.loc[i,\"MIN_MA3\"]\n",
    "        ma3 += [x3,z1]\n",
    "        minma3 += [x3,mz1]\n",
    "        if y-h >m2:\n",
    "                m2 = y-h\n",
    "                cl = df_sc.loc[i,\"DATETIME\"]\n",
    "        if y>h:\n",
    "                color = (0,0,255)\n",
    "                y,h = h,y\n",
    "        else:\n",
    "                color = (255,0,0)\n",
    "        if y==h:\n",
    "               if y<pc:\n",
    "                       color = (255,0,0)\n",
    "               else:\n",
    "                       color = (0,0,255)\n",
    "     \n",
    "        if y==h:\n",
    "                h = y+1\n",
    "        \n",
    "       \n",
    "        try:\n",
    "                draw.rectangle([(x,y),(x2,h)],color)\n",
    "                draw.rectangle([(x3,hp),(x4,lp)],color)\n",
    "        except Exception as e:\n",
    "                print([(x3,x4),(y,h)],str(e))\n",
    "        \n",
    "draw.line(ma3,(0,255,0))\n",
    "draw.line(minma3,(100,255,100))\n",
    "                "
   ],
   "metadata": {
    "collapsed": false,
    "ExecuteTime": {
     "end_time": "2024-04-19T08:53:03.921530200Z",
     "start_time": "2024-04-19T08:53:03.492543400Z"
    }
   },
   "id": "6dfe6de9e43f9ed5",
   "execution_count": 241
  },
  {
   "cell_type": "code",
   "outputs": [],
   "source": [
    "img.show()"
   ],
   "metadata": {
    "collapsed": false,
    "ExecuteTime": {
     "end_time": "2024-04-19T08:53:11.053578700Z",
     "start_time": "2024-04-19T08:53:03.924533400Z"
    }
   },
   "id": "771c4f042c56419d",
   "execution_count": 242
  },
  {
   "cell_type": "code",
   "outputs": [],
   "source": [],
   "metadata": {
    "collapsed": false,
    "ExecuteTime": {
     "end_time": "2024-04-19T08:53:11.069564900Z",
     "start_time": "2024-04-19T08:53:11.054565800Z"
    }
   },
   "id": "38ed02f354d8979e",
   "execution_count": 242
  },
  {
   "cell_type": "code",
   "outputs": [],
   "source": [],
   "metadata": {
    "collapsed": false,
    "ExecuteTime": {
     "end_time": "2024-04-19T08:53:11.096565300Z",
     "start_time": "2024-04-19T08:53:11.070565500Z"
    }
   },
   "id": "9a02655559aa7d43",
   "execution_count": 242
  },
  {
   "cell_type": "code",
   "outputs": [],
   "source": [],
   "metadata": {
    "collapsed": false
   },
   "id": "a7272fb1c82d41af"
  }
 ],
 "metadata": {
  "kernelspec": {
   "display_name": "Python 3",
   "language": "python",
   "name": "python3"
  },
  "language_info": {
   "codemirror_mode": {
    "name": "ipython",
    "version": 2
   },
   "file_extension": ".py",
   "mimetype": "text/x-python",
   "name": "python",
   "nbconvert_exporter": "python",
   "pygments_lexer": "ipython2",
   "version": "2.7.6"
  }
 },
 "nbformat": 4,
 "nbformat_minor": 5
}
